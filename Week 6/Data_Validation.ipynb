{
 "cells": [
  {
   "cell_type": "code",
   "execution_count": null,
   "metadata": {},
   "outputs": [],
   "source": [
    "import os\n",
    "import time\n",
    "filename = 'DOT_Traffic_Speeds_NBE.csv'"
   ]
  },
  {
   "cell_type": "markdown",
   "metadata": {},
   "source": [
    "Pandas"
   ]
  },
  {
   "cell_type": "code",
   "execution_count": null,
   "metadata": {},
   "outputs": [],
   "source": [
    "import pandas as pd"
   ]
  },
  {
   "cell_type": "code",
   "execution_count": null,
   "metadata": {},
   "outputs": [],
   "source": [
    "start = time.time()\n",
    "pandasDF = pd.read_csv(filename)\n",
    "finish = time.time()\n",
    "print(f'Time to Completion: {(finish-start)//60} minutes and {((finish-start)%60):2} seconds.')"
   ]
  },
  {
   "cell_type": "markdown",
   "metadata": {},
   "source": [
    "Dask"
   ]
  },
  {
   "cell_type": "code",
   "execution_count": null,
   "metadata": {},
   "outputs": [],
   "source": [
    "import dask.dataframe as dd"
   ]
  },
  {
   "cell_type": "code",
   "execution_count": null,
   "metadata": {},
   "outputs": [],
   "source": [
    "start = time.time()\n",
    "daskDF = dd.read_csv(filename)\n",
    "finish = time.time()\n",
    "print(f'Time to Completion: {(finish-start)//60} minutes and {((finish-start)%60):2} seconds.')"
   ]
  },
  {
   "cell_type": "markdown",
   "metadata": {},
   "source": [
    "Modin/Ray"
   ]
  },
  {
   "cell_type": "code",
   "execution_count": null,
   "metadata": {},
   "outputs": [],
   "source": [
    "os.environ[\"MODIN_ENGINE\"] = \"ray\"\n",
    "import modin.pandas as mpd"
   ]
  },
  {
   "cell_type": "code",
   "execution_count": null,
   "metadata": {},
   "outputs": [],
   "source": [
    "start = time.time()\n",
    "modinDF = mpd.read_csv(filename)\n",
    "finish = time.time()\n",
    "print(f'Time to Completion: {(finish-start)//60} minutes and {((finish-start)%60):2} seconds.')"
   ]
  },
  {
   "cell_type": "markdown",
   "metadata": {},
   "source": [
    "Data Validation"
   ]
  },
  {
   "cell_type": "code",
   "execution_count": null,
   "metadata": {},
   "outputs": [],
   "source": [
    "daskDF = dd.read_csv(filename)"
   ]
  },
  {
   "cell_type": "code",
   "execution_count": null,
   "metadata": {},
   "outputs": [],
   "source": [
    "daskDF.head()"
   ]
  },
  {
   "cell_type": "code",
   "execution_count": null,
   "metadata": {},
   "outputs": [],
   "source": [
    "cols = daskDF.columns.values\n",
    "print(f'Given Columns: {cols}\\n')\n",
    "for i in range(len(daskDF.columns)):\n",
    "    specialRemoved = ''.join([a for a in daskDF.columns[i] if (a.isalnum())])\n",
    "    cols[i] = specialRemoved\n",
    "dictCols = {i:cols[i] for i in range(len(cols))}\n",
    "daskDF.rename(columns=dictCols)\n",
    "print(f'Parsed Columns: {daskDF.columns.values.tolist()}')"
   ]
  },
  {
   "cell_type": "markdown",
   "metadata": {},
   "source": [
    "YAML"
   ]
  },
  {
   "cell_type": "code",
   "execution_count": null,
   "metadata": {},
   "outputs": [],
   "source": [
    "import yaml"
   ]
  },
  {
   "cell_type": "code",
   "execution_count": null,
   "metadata": {},
   "outputs": [],
   "source": [
    "%%writefile data.yaml\n",
    "fileType: csv\n",
    "fileName: DOT_Traffic_Speeds_NBE\n",
    "readDelimiter: \",\"\n",
    "writeDelimiter: \"|\"\n",
    "columns: ['ID', 'SPEED', 'TRAVELTIME', 'STATUS', 'DATAASOF', 'LINKID', 'LINKPOINTS', 'ENCODEDPOLYLINE', 'ENCODEDPOLYLINELVLS', 'OWNER', 'TRANSCOMID', 'BOROUGH', 'LINKNAME']"
   ]
  },
  {
   "cell_type": "code",
   "execution_count": null,
   "metadata": {},
   "outputs": [],
   "source": [
    "data = open('data.yaml', 'r')\n",
    "yml = yaml.load(data, yaml.Loader)\n",
    "print(yml)\n",
    "print('Number of Columns:', len(yml['columns']))"
   ]
  },
  {
   "cell_type": "markdown",
   "metadata": {},
   "source": [
    "File Writing & Summary"
   ]
  },
  {
   "cell_type": "code",
   "execution_count": null,
   "metadata": {},
   "outputs": [],
   "source": [
    "daskDF.to_csv(f\"{yml['fileName']}.gz\", compression='gzip', sep=yml['writeDelimiter'])\n",
    "\n",
    "print(f\"Number of Columns: {len(daskDF.columns.values)}\")\n",
    "print(f\"Number of Rows: {len(daskDF)}\")\n",
    "print('File Size:', os.path.getsize(f\"{yml['fileName']}.gz\"))"
   ]
  }
 ],
 "metadata": {
  "kernelspec": {
   "display_name": "Python 3",
   "language": "python",
   "name": "python3"
  },
  "language_info": {
   "codemirror_mode": {
    "name": "ipython",
    "version": 3
   },
   "file_extension": ".py",
   "mimetype": "text/x-python",
   "name": "python",
   "nbconvert_exporter": "python",
   "pygments_lexer": "ipython3",
   "version": "3.10.9"
  },
  "orig_nbformat": 4,
  "vscode": {
   "interpreter": {
    "hash": "58a66d7bbf596cc668bce0ab9bea31c5eb558b2e4e3050de1ebd0ad57b8e47fd"
   }
  }
 },
 "nbformat": 4,
 "nbformat_minor": 2
}
