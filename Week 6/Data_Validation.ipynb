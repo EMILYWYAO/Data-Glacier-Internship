{
 "cells": [
  {
   "cell_type": "code",
   "execution_count": 1,
   "metadata": {},
   "outputs": [],
   "source": [
    "import os"
   ]
  },
  {
   "cell_type": "markdown",
   "metadata": {},
   "source": [
    "Pandas"
   ]
  },
  {
   "cell_type": "code",
   "execution_count": 66,
   "metadata": {},
   "outputs": [],
   "source": [
    "import pandas as pd\n",
    "filename = 'nicoleBrown.txt'\n",
    "pandasDF = pd.read_csv(filename)"
   ]
  },
  {
   "cell_type": "markdown",
   "metadata": {},
   "source": [
    "Time to Completion: "
   ]
  },
  {
   "cell_type": "markdown",
   "metadata": {},
   "source": [
    "Dask"
   ]
  },
  {
   "cell_type": "code",
   "execution_count": null,
   "metadata": {},
   "outputs": [],
   "source": [
    "import dask.dataframe as dd\n",
    "daskDF = dd.read_csv(filename)"
   ]
  },
  {
   "cell_type": "markdown",
   "metadata": {},
   "source": [
    "Time to Completion:"
   ]
  },
  {
   "cell_type": "markdown",
   "metadata": {},
   "source": [
    "Modin/Ray"
   ]
  },
  {
   "cell_type": "code",
   "execution_count": null,
   "metadata": {},
   "outputs": [],
   "source": [
    "import ray\n",
    "import modin.pandas as mpd\n",
    "ray.init()\n",
    "modinDF = mpd.read_csv(filename)"
   ]
  },
  {
   "cell_type": "markdown",
   "metadata": {},
   "source": [
    "Time to Completion:"
   ]
  },
  {
   "cell_type": "markdown",
   "metadata": {},
   "source": [
    "Data Validation"
   ]
  },
  {
   "cell_type": "code",
   "execution_count": 67,
   "metadata": {},
   "outputs": [],
   "source": [
    "pandasDF = pd.read_csv('nicoleBrown.txt', names=[' []\"w``i/.n;', 'y ','=-z]'])"
   ]
  },
  {
   "cell_type": "code",
   "execution_count": 68,
   "metadata": {},
   "outputs": [
    {
     "name": "stdout",
     "output_type": "stream",
     "text": [
      "Given Columns: [' []\"w``i/.n;' 'y ' '=-z]']\n",
      "Parsed Columns: ['win', 'y', 'z']\n"
     ]
    }
   ],
   "source": [
    "cols = pandasDF.columns.values\n",
    "print(f'Given Columns: {cols}')\n",
    "for i in range(len(pandasDF.columns)):\n",
    "    specialRemoved = ''.join([a for a in pandasDF.columns[i] if (a.isalnum())])\n",
    "    cols[i] = specialRemoved\n",
    "pandasDF.columns = cols\n",
    "print(f'Parsed Columns: {pandasDF.columns.values.tolist()}')"
   ]
  },
  {
   "cell_type": "markdown",
   "metadata": {},
   "source": [
    "YAML"
   ]
  },
  {
   "cell_type": "code",
   "execution_count": 69,
   "metadata": {},
   "outputs": [],
   "source": [
    "import yaml"
   ]
  },
  {
   "cell_type": "code",
   "execution_count": 70,
   "metadata": {},
   "outputs": [
    {
     "name": "stdout",
     "output_type": "stream",
     "text": [
      "Overwriting data.yaml\n"
     ]
    }
   ],
   "source": [
    "%%writefile data.yaml\n",
    "fileType: csv\n",
    "fileName: nicholeBrown\n",
    "readDelimiter: \",\"\n",
    "writeDelimiter: \"|\"\n",
    "columns: ['win', 'y', 'z']"
   ]
  },
  {
   "cell_type": "code",
   "execution_count": 71,
   "metadata": {},
   "outputs": [
    {
     "name": "stdout",
     "output_type": "stream",
     "text": [
      "{'fileType': 'csv', 'fileName': 'nicholeBrown', 'readDelimiter': ',', 'writeDelimiter': '|', 'columns': ['win', 'y', 'z']}\n",
      "Number of Columns: 3\n"
     ]
    }
   ],
   "source": [
    "data = open('data.yaml', 'r')\n",
    "yml = yaml.load(data, yaml.Loader)\n",
    "print(yml)\n",
    "print('Number of Columns:', len(yml['columns']))"
   ]
  },
  {
   "cell_type": "markdown",
   "metadata": {},
   "source": [
    "File Writing & Summary"
   ]
  },
  {
   "cell_type": "code",
   "execution_count": 75,
   "metadata": {},
   "outputs": [
    {
     "name": "stdout",
     "output_type": "stream",
     "text": [
      "Number of Columns: 3\n",
      "Number of Rows: 81556\n",
      "File Size: 755913\n"
     ]
    }
   ],
   "source": [
    "pandasDF.to_csv(f\"{yml['fileName']}.gz\", compression='gzip', sep=yml['writeDelimiter'])\n",
    "\n",
    "print(f\"Number of Columns: {len(pandasDF.columns.values)}\")\n",
    "print(f\"Number of Rows: {len(pandasDF)}\")\n",
    "print('File Size:', os.path.getsize(f\"{yml['fileName']}.gz\"))"
   ]
  }
 ],
 "metadata": {
  "kernelspec": {
   "display_name": "personalEnv",
   "language": "python",
   "name": "python3"
  },
  "language_info": {
   "codemirror_mode": {
    "name": "ipython",
    "version": 3
   },
   "file_extension": ".py",
   "mimetype": "text/x-python",
   "name": "python",
   "nbconvert_exporter": "python",
   "pygments_lexer": "ipython3",
   "version": "3.10.1"
  },
  "orig_nbformat": 4,
  "vscode": {
   "interpreter": {
    "hash": "2fa5e93ebd3276594cee4e0fcb80987833370c32faec87cd980d6b1dabc42c2e"
   }
  }
 },
 "nbformat": 4,
 "nbformat_minor": 2
}
