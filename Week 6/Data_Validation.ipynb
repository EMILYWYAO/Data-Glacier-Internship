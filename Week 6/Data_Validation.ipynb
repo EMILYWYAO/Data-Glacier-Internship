{
 "cells": [
  {
   "cell_type": "code",
   "execution_count": 1,
   "metadata": {},
   "outputs": [],
   "source": [
    "import os\n",
    "import time\n",
    "filename = 'DOT_Traffic_Speeds_NBE.csv'"
   ]
  },
  {
   "cell_type": "markdown",
   "metadata": {},
   "source": [
    "Pandas"
   ]
  },
  {
   "cell_type": "code",
   "execution_count": 2,
   "metadata": {},
   "outputs": [],
   "source": [
    "import pandas as pd"
   ]
  },
  {
   "cell_type": "code",
   "execution_count": 3,
   "metadata": {},
   "outputs": [
    {
     "name": "stdout",
     "output_type": "stream",
     "text": [
      "Time to Completion: 3.0 minutes and 21.698315382003784 seconds.\n"
     ]
    }
   ],
   "source": [
    "start = time.time()\n",
    "pandasDF = pd.read_csv(filename)\n",
    "finish = time.time()\n",
    "print(f'Time to Completion: {(finish-start)//60} minutes and {((finish-start)%60):2} seconds.')"
   ]
  },
  {
   "cell_type": "markdown",
   "metadata": {},
   "source": [
    "Dask"
   ]
  },
  {
   "cell_type": "code",
   "execution_count": 4,
   "metadata": {},
   "outputs": [],
   "source": [
    "import dask.dataframe as dd"
   ]
  },
  {
   "cell_type": "code",
   "execution_count": 5,
   "metadata": {},
   "outputs": [
    {
     "name": "stdout",
     "output_type": "stream",
     "text": [
      "Time to Completion: 0.0 minutes and 0.01800370216369629 seconds.\n"
     ]
    }
   ],
   "source": [
    "start = time.time()\n",
    "daskDF = dd.read_csv(filename)\n",
    "finish = time.time()\n",
    "print(f'Time to Completion: {(finish-start)//60} minutes and {((finish-start)%60):2} seconds.')"
   ]
  },
  {
   "cell_type": "markdown",
   "metadata": {},
   "source": [
    "Modin/Ray"
   ]
  },
  {
   "cell_type": "code",
   "execution_count": 6,
   "metadata": {},
   "outputs": [],
   "source": [
    "os.environ[\"MODIN_ENGINE\"] = \"ray\"\n",
    "import modin.pandas as mpd"
   ]
  },
  {
   "cell_type": "code",
   "execution_count": 7,
   "metadata": {},
   "outputs": [
    {
     "name": "stderr",
     "output_type": "stream",
     "text": [
      "UserWarning: Ray execution environment not yet initialized. Initializing...\n",
      "To remove this warning, run the following python code before doing dataframe operations:\n",
      "\n",
      "    import ray\n",
      "    ray.init(runtime_env={'env_vars': {'__MODIN_AUTOIMPORT_PANDAS__': '1'}})\n",
      "\n"
     ]
    },
    {
     "name": "stdout",
     "output_type": "stream",
     "text": [
      "Usage stats collection is enabled by default for nightly wheels. To disable this, run the following command: `ray disable-usage-stats` before starting Ray. See https://docs.ray.io/en/master/cluster/usage-stats.html for more details.\n"
     ]
    },
    {
     "name": "stderr",
     "output_type": "stream",
     "text": [
      "2022-12-24 14:08:18,026\tINFO worker.py:1545 -- Started a local Ray instance.\n",
      "\u001b[2m\u001b[36m(pid=)\u001b[0m c:\\Users\\emily\\AppData\\Local\\Programs\\Python\\Python310\\lib\\site-packages\\ray\\dashboard\\agent.py:51: DeprecationWarning: There is no current event loop\n",
      "\u001b[2m\u001b[36m(pid=)\u001b[0m   aiogrpc.init_grpc_aio()\n"
     ]
    },
    {
     "name": "stdout",
     "output_type": "stream",
     "text": [
      "Time to Completion: 1.0 minutes and 11.34940218925476 seconds.\n"
     ]
    }
   ],
   "source": [
    "start = time.time()\n",
    "modinDF = mpd.read_csv(filename)\n",
    "finish = time.time()\n",
    "print(f'Time to Completion: {(finish-start)//60} minutes and {((finish-start)%60):2} seconds.')"
   ]
  },
  {
   "cell_type": "markdown",
   "metadata": {},
   "source": [
    "Data Validation"
   ]
  },
  {
   "cell_type": "code",
   "execution_count": 8,
   "metadata": {},
   "outputs": [],
   "source": [
    "daskDF = dd.read_csv(filename)"
   ]
  },
  {
   "cell_type": "code",
   "execution_count": 9,
   "metadata": {},
   "outputs": [
    {
     "data": {
      "text/html": [
       "<div>\n",
       "<style scoped>\n",
       "    .dataframe tbody tr th:only-of-type {\n",
       "        vertical-align: middle;\n",
       "    }\n",
       "\n",
       "    .dataframe tbody tr th {\n",
       "        vertical-align: top;\n",
       "    }\n",
       "\n",
       "    .dataframe thead th {\n",
       "        text-align: right;\n",
       "    }\n",
       "</style>\n",
       "<table border=\"1\" class=\"dataframe\">\n",
       "  <thead>\n",
       "    <tr style=\"text-align: right;\">\n",
       "      <th></th>\n",
       "      <th>ID</th>\n",
       "      <th>SPEED</th>\n",
       "      <th>TRAVEL_TIME</th>\n",
       "      <th>STATUS</th>\n",
       "      <th>DATA_AS_OF</th>\n",
       "      <th>LINK_ID</th>\n",
       "      <th>LINK_POINTS</th>\n",
       "      <th>ENCODED_POLY_LINE</th>\n",
       "      <th>ENCODED_POLY_LINE_LVLS</th>\n",
       "      <th>OWNER</th>\n",
       "      <th>TRANSCOM_ID</th>\n",
       "      <th>BOROUGH</th>\n",
       "      <th>LINK_NAME</th>\n",
       "    </tr>\n",
       "  </thead>\n",
       "  <tbody>\n",
       "    <tr>\n",
       "      <th>0</th>\n",
       "      <td>262</td>\n",
       "      <td>34.80</td>\n",
       "      <td>359</td>\n",
       "      <td>0</td>\n",
       "      <td>06/02/2017 11:41:59 PM</td>\n",
       "      <td>4616319</td>\n",
       "      <td>40.6332305,-74.016151 40.63391,-74.01613 40.63...</td>\n",
       "      <td>ud_wF|gwbMgCCwATcBr@_BvAqDhGmGtL{AxB}AlAsBt@uB...</td>\n",
       "      <td>BBBBBBBBBBBBBBBBBBBBBBBBBBBB</td>\n",
       "      <td>NYC_DOT_LIC</td>\n",
       "      <td>4616319</td>\n",
       "      <td>Brooklyn</td>\n",
       "      <td>GOW S 9TH STREET - 7TH AVENUE</td>\n",
       "    </tr>\n",
       "    <tr>\n",
       "      <th>1</th>\n",
       "      <td>204</td>\n",
       "      <td>55.92</td>\n",
       "      <td>155</td>\n",
       "      <td>0</td>\n",
       "      <td>06/02/2017 11:41:59 PM</td>\n",
       "      <td>4616320</td>\n",
       "      <td>40.7894406,-73.786291  40.78918,-73.78792  40....</td>\n",
       "      <td>_u}wFhkjaMr@dI~A~HtA|EbEnKxBdHv@~Cv@jGRhCJ~G[p...</td>\n",
       "      <td>BBBBBBBBBBBBBBBBBBBBBBBBBBBBBBBBBBBBBBBBB</td>\n",
       "      <td>NYC_DOT_LIC</td>\n",
       "      <td>4616320</td>\n",
       "      <td>Queens</td>\n",
       "      <td>CIP N TNB - Whitestone Expwy S Exit 14 (Linden...</td>\n",
       "    </tr>\n",
       "    <tr>\n",
       "      <th>2</th>\n",
       "      <td>106</td>\n",
       "      <td>39.77</td>\n",
       "      <td>159</td>\n",
       "      <td>0</td>\n",
       "      <td>06/02/2017 11:41:59 PM</td>\n",
       "      <td>4616323</td>\n",
       "      <td>40.77158,-73.994441 40.7713004,-73.99455 40.77...</td>\n",
       "      <td>kezwFf`sbMv@TxAVnDZe@Gz@J~@Xf@VlEnC??~KpH??vCp...</td>\n",
       "      <td>BBBBBBBBBBBBBBBBB</td>\n",
       "      <td>NYC_DOT_LIC</td>\n",
       "      <td>4616323</td>\n",
       "      <td>Manhattan</td>\n",
       "      <td>12th Ave S 57th St - 45th St</td>\n",
       "    </tr>\n",
       "    <tr>\n",
       "      <th>3</th>\n",
       "      <td>184</td>\n",
       "      <td>65.24</td>\n",
       "      <td>39</td>\n",
       "      <td>0</td>\n",
       "      <td>06/03/2017 04:46:59 AM</td>\n",
       "      <td>4616253</td>\n",
       "      <td>40.8347204,-73.86593 40.83357,-73.86199 40.832...</td>\n",
       "      <td>_pfxF`}yaMdFsWfDmPpH}^lEgTBBBBB</td>\n",
       "      <td>BBBBB</td>\n",
       "      <td>NYC_DOT_LIC</td>\n",
       "      <td>4616253</td>\n",
       "      <td>Bronx</td>\n",
       "      <td>CBE E TAYLOR AVENUE - CASTLE HILL AVENUE</td>\n",
       "    </tr>\n",
       "    <tr>\n",
       "      <th>4</th>\n",
       "      <td>3</td>\n",
       "      <td>14.91</td>\n",
       "      <td>422</td>\n",
       "      <td>0</td>\n",
       "      <td>06/02/2017 11:41:59 PM</td>\n",
       "      <td>4616324</td>\n",
       "      <td>40.76375,-73.999191 40.763521,-73.99935 40.762...</td>\n",
       "      <td>mtxwF|}sbMl@^~GpK|LrIbLlH??lK~G|FtD`C~@}@WdWnG...</td>\n",
       "      <td>BBBBBBBBBBBBBBB</td>\n",
       "      <td>NYC_DOT_LIC</td>\n",
       "      <td>4616324</td>\n",
       "      <td>Manhattan</td>\n",
       "      <td>12th ave @ 45th - 11 ave ganservoort st</td>\n",
       "    </tr>\n",
       "  </tbody>\n",
       "</table>\n",
       "</div>"
      ],
      "text/plain": [
       "    ID  SPEED  TRAVEL_TIME  STATUS              DATA_AS_OF  LINK_ID  \\\n",
       "0  262  34.80          359       0  06/02/2017 11:41:59 PM  4616319   \n",
       "1  204  55.92          155       0  06/02/2017 11:41:59 PM  4616320   \n",
       "2  106  39.77          159       0  06/02/2017 11:41:59 PM  4616323   \n",
       "3  184  65.24           39       0  06/03/2017 04:46:59 AM  4616253   \n",
       "4    3  14.91          422       0  06/02/2017 11:41:59 PM  4616324   \n",
       "\n",
       "                                         LINK_POINTS  \\\n",
       "0  40.6332305,-74.016151 40.63391,-74.01613 40.63...   \n",
       "1  40.7894406,-73.786291  40.78918,-73.78792  40....   \n",
       "2  40.77158,-73.994441 40.7713004,-73.99455 40.77...   \n",
       "3  40.8347204,-73.86593 40.83357,-73.86199 40.832...   \n",
       "4  40.76375,-73.999191 40.763521,-73.99935 40.762...   \n",
       "\n",
       "                                   ENCODED_POLY_LINE  \\\n",
       "0  ud_wF|gwbMgCCwATcBr@_BvAqDhGmGtL{AxB}AlAsBt@uB...   \n",
       "1  _u}wFhkjaMr@dI~A~HtA|EbEnKxBdHv@~Cv@jGRhCJ~G[p...   \n",
       "2  kezwFf`sbMv@TxAVnDZe@Gz@J~@Xf@VlEnC??~KpH??vCp...   \n",
       "3                    _pfxF`}yaMdFsWfDmPpH}^lEgTBBBBB   \n",
       "4  mtxwF|}sbMl@^~GpK|LrIbLlH??lK~G|FtD`C~@}@WdWnG...   \n",
       "\n",
       "                      ENCODED_POLY_LINE_LVLS        OWNER  TRANSCOM_ID  \\\n",
       "0               BBBBBBBBBBBBBBBBBBBBBBBBBBBB  NYC_DOT_LIC      4616319   \n",
       "1  BBBBBBBBBBBBBBBBBBBBBBBBBBBBBBBBBBBBBBBBB  NYC_DOT_LIC      4616320   \n",
       "2                          BBBBBBBBBBBBBBBBB  NYC_DOT_LIC      4616323   \n",
       "3                                      BBBBB  NYC_DOT_LIC      4616253   \n",
       "4                            BBBBBBBBBBBBBBB  NYC_DOT_LIC      4616324   \n",
       "\n",
       "     BOROUGH                                          LINK_NAME  \n",
       "0   Brooklyn                      GOW S 9TH STREET - 7TH AVENUE  \n",
       "1     Queens  CIP N TNB - Whitestone Expwy S Exit 14 (Linden...  \n",
       "2  Manhattan                       12th Ave S 57th St - 45th St  \n",
       "3      Bronx           CBE E TAYLOR AVENUE - CASTLE HILL AVENUE  \n",
       "4  Manhattan            12th ave @ 45th - 11 ave ganservoort st  "
      ]
     },
     "execution_count": 9,
     "metadata": {},
     "output_type": "execute_result"
    }
   ],
   "source": [
    "daskDF.head()"
   ]
  },
  {
   "cell_type": "code",
   "execution_count": 10,
   "metadata": {},
   "outputs": [
    {
     "name": "stdout",
     "output_type": "stream",
     "text": [
      "Given Columns: ['ID' 'SPEED' 'TRAVEL_TIME' 'STATUS' 'DATA_AS_OF' 'LINK_ID' 'LINK_POINTS'\n",
      " 'ENCODED_POLY_LINE' 'ENCODED_POLY_LINE_LVLS' 'OWNER' 'TRANSCOM_ID'\n",
      " 'BOROUGH' 'LINK_NAME']\n",
      "\n",
      "Parsed Columns: ['ID', 'SPEED', 'TRAVELTIME', 'STATUS', 'DATAASOF', 'LINKID', 'LINKPOINTS', 'ENCODEDPOLYLINE', 'ENCODEDPOLYLINELVLS', 'OWNER', 'TRANSCOMID', 'BOROUGH', 'LINKNAME']\n"
     ]
    }
   ],
   "source": [
    "cols = daskDF.columns.values\n",
    "print(f'Given Columns: {cols}\\n')\n",
    "for i in range(len(daskDF.columns)):\n",
    "    specialRemoved = ''.join([a for a in daskDF.columns[i] if (a.isalnum())])\n",
    "    cols[i] = specialRemoved\n",
    "dictCols = {i:cols[i] for i in range(len(cols))}\n",
    "daskDF.rename(columns=dictCols)\n",
    "print(f'Parsed Columns: {daskDF.columns.values.tolist()}')"
   ]
  },
  {
   "cell_type": "markdown",
   "metadata": {},
   "source": [
    "YAML"
   ]
  },
  {
   "cell_type": "code",
   "execution_count": 11,
   "metadata": {},
   "outputs": [],
   "source": [
    "import yaml"
   ]
  },
  {
   "cell_type": "code",
   "execution_count": 12,
   "metadata": {},
   "outputs": [
    {
     "name": "stdout",
     "output_type": "stream",
     "text": [
      "Overwriting data.yaml\n"
     ]
    }
   ],
   "source": [
    "%%writefile data.yaml\n",
    "fileType: csv\n",
    "fileName: DOT_Traffic_Speeds_NBE\n",
    "readDelimiter: \",\"\n",
    "writeDelimiter: \"|\"\n",
    "columns: ['ID', 'SPEED', 'TRAVELTIME', 'STATUS', 'DATAASOF', 'LINKID', 'LINKPOINTS', 'ENCODEDPOLYLINE', 'ENCODEDPOLYLINELVLS', 'OWNER', 'TRANSCOMID', 'BOROUGH', 'LINKNAME']"
   ]
  },
  {
   "cell_type": "code",
   "execution_count": 13,
   "metadata": {},
   "outputs": [
    {
     "name": "stdout",
     "output_type": "stream",
     "text": [
      "{'fileType': 'csv', 'fileName': 'DOT_Traffic_Speeds_NBE', 'readDelimiter': ',', 'writeDelimiter': '|', 'columns': ['ID', 'SPEED', 'TRAVELTIME', 'STATUS', 'DATAASOF', 'LINKID', 'LINKPOINTS', 'ENCODEDPOLYLINE', 'ENCODEDPOLYLINELVLS', 'OWNER', 'TRANSCOMID', 'BOROUGH', 'LINKNAME']}\n",
      "Number of Columns: 13\n"
     ]
    }
   ],
   "source": [
    "data = open('data.yaml', 'r')\n",
    "yml = yaml.load(data, yaml.Loader)\n",
    "print(yml)\n",
    "print('Number of Columns:', len(yml['columns']))"
   ]
  },
  {
   "cell_type": "markdown",
   "metadata": {},
   "source": [
    "File Writing & Summary"
   ]
  },
  {
   "cell_type": "code",
   "execution_count": 14,
   "metadata": {},
   "outputs": [
    {
     "name": "stdout",
     "output_type": "stream",
     "text": [
      "Number of Columns: 13\n",
      "Number of Rows: 64914523\n",
      "File Size: 196608\n"
     ]
    }
   ],
   "source": [
    "daskDF.to_csv(f\"{yml['fileName']}.gz\", compression='gzip', sep=yml['writeDelimiter'])\n",
    "\n",
    "print(f\"Number of Columns: {len(daskDF.columns.values)}\")\n",
    "print(f\"Number of Rows: {len(daskDF)}\")\n",
    "print('File Size:', os.path.getsize(f\"{yml['fileName']}.gz\"))"
   ]
  }
 ],
 "metadata": {
  "kernelspec": {
   "display_name": "Python 3",
   "language": "python",
   "name": "python3"
  },
  "language_info": {
   "codemirror_mode": {
    "name": "ipython",
    "version": 3
   },
   "file_extension": ".py",
   "mimetype": "text/x-python",
   "name": "python",
   "nbconvert_exporter": "python",
   "pygments_lexer": "ipython3",
   "version": "3.10.9"
  },
  "orig_nbformat": 4,
  "vscode": {
   "interpreter": {
    "hash": "58a66d7bbf596cc668bce0ab9bea31c5eb558b2e4e3050de1ebd0ad57b8e47fd"
   }
  }
 },
 "nbformat": 4,
 "nbformat_minor": 2
}
